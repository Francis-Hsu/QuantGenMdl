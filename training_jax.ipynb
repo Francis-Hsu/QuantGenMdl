{
 "cells": [
  {
   "cell_type": "code",
   "execution_count": 1,
   "metadata": {},
   "outputs": [
    {
     "name": "stderr",
     "output_type": "stream",
     "text": [
      "2023-11-08 13:48:33.649949: W tensorflow/compiler/tf2tensorrt/utils/py_utils.cc:38] TF-TRT Warning: Could not find TensorRT\n",
      "Please first ``pip install -U qiskit`` to enable related functionality in translation module\n",
      "Please first ``pip install -U cirq`` to enable related functionality in translation module\n",
      "/home/francishsu/miniconda3/lib/python3.11/site-packages/ot/backend.py:1368: UserWarning: Explicitly requested dtype <class 'jax.numpy.float64'> requested in array is not available, and will be truncated to dtype float32. To enable more dtypes, set the jax_enable_x64 configuration option or the JAX_ENABLE_X64 shell environment variable. See https://github.com/google/jax#current-gotchas for more.\n",
      "  jax.device_put(jnp.array(1, dtype=jnp.float64), d)\n",
      "2023-11-08 13:48:36.034739: W tensorflow/core/common_runtime/gpu/gpu_bfc_allocator.cc:47] Overriding orig_value setting because the TF_FORCE_GPU_ALLOW_GROWTH environment variable is set. Original config value was 0.\n",
      "/home/francishsu/miniconda3/lib/python3.11/site-packages/ot/backend.py:2998: UserWarning: To use TensorflowBackend, you need to activate the tensorflow numpy API. You can activate it by running: \n",
      "from tensorflow.python.ops.numpy_ops import np_config\n",
      "np_config.enable_numpy_behavior()\n",
      "  register_backend(TensorflowBackend())\n"
     ]
    }
   ],
   "source": [
    "import os\n",
    "import time\n",
    "\n",
    "import numpy as np\n",
    "import matplotlib.pyplot as plt\n",
    "from matplotlib import rc\n",
    "\n",
    "import jax\n",
    "from jax import numpy as jnp\n",
    "from jax import random\n",
    "\n",
    "import optax\n",
    "\n",
    "from src.QDDPM_jax import QDDPM, HaarSampleGeneration\n",
    "from src.distance_jax import naturalDistance, WassDistance, sinkhornDistance\n",
    "\n",
    "rc('text', usetex=True)\n",
    "rc('axes', linewidth=3)"
   ]
  },
  {
   "cell_type": "code",
   "execution_count": 2,
   "metadata": {},
   "outputs": [
    {
     "name": "stdout",
     "output_type": "stream",
     "text": [
      "gpu\n"
     ]
    }
   ],
   "source": [
    "# check device\n",
    "print(jax.lib.xla_bridge.get_backend().platform)"
   ]
  },
  {
   "cell_type": "code",
   "execution_count": 3,
   "metadata": {},
   "outputs": [],
   "source": [
    "def Training_t(model, t, inputs_T, params_tot, epochs, dis_measure='wd'):\n",
    "    '''\n",
    "    training for the backward PQC at step t using whole dataset\n",
    "    Args:\n",
    "    model: QDDPM model\n",
    "    t: diffusion step\n",
    "    params_tot: collection of PQC parameters for steps > t \n",
    "    epochs: number of iterations\n",
    "    dis_measure: the distance measure to compare two distributions of quantum states\n",
    "    dis_params: potential hyper-parameters for distance measure\n",
    "    '''\n",
    "    Ndata = inputs_T.shape[0]\n",
    "\n",
    "    input_tplus1 = model.prepareInput_t(\n",
    "        inputs_T, params_tot, t, Ndata)  # prepare input\n",
    "    states_diff = model.states_diff\n",
    "    loss_hist = []  # record of training history\n",
    "\n",
    "    # initialize parameters\n",
    "    key = random.PRNGKey(np.random.randint(low=0, high=10000))\n",
    "    param_shape = 2 * model.n_tot * model.L\n",
    "    params_t = random.normal(key, shape=(param_shape, ))\n",
    "\n",
    "    # set optimizer and learning rate decay\n",
    "    optimizer = optax.adam(learning_rate=5e-4)\n",
    "    opt_state = optimizer.init(params_t)\n",
    "\n",
    "    if dis_measure == 'nat':\n",
    "        def loss_func(params_t, input_tplus1, true_data):\n",
    "            output_t = model.backwardOutput_t(input_tplus1, params_t)\n",
    "            loss = naturalDistance(output_t, true_data)\n",
    "\n",
    "            return loss\n",
    "\n",
    "    elif dis_measure == 'wd':\n",
    "        def loss_func(params_t, input_tplus1, true_data):\n",
    "            output_t = model.backwardOutput_t(input_tplus1, params_t)\n",
    "            loss = sinkhornDistance(output_t, true_data, reg=0.01)\n",
    "\n",
    "            return loss\n",
    "\n",
    "    loss_func_vg = jax.jit(jax.value_and_grad(loss_func))\n",
    "    # @partial(jax.jit, static_argnums=(2, ))\n",
    "\n",
    "    def update(params_t, input_tplus1, true_data, opt_state):\n",
    "        loss_value, grads = loss_func_vg(params_t, input_tplus1, true_data)\n",
    "        updates, new_opt_state = optimizer.update(grads, opt_state, params_t)\n",
    "        new_params_t = optax.apply_updates(params_t, updates)\n",
    "\n",
    "        return new_params_t, new_opt_state, loss_value\n",
    "\n",
    "    t0 = time.time()\n",
    "    for step in range(epochs):\n",
    "        np.random.seed()\n",
    "        indices = np.random.choice(\n",
    "            states_diff.shape[1], size=Ndata, replace=False)\n",
    "        true_data = states_diff[t, indices]\n",
    "\n",
    "        params_t, opt_state, loss_value = update(\n",
    "            params_t, input_tplus1, true_data, opt_state)\n",
    "\n",
    "        if step % 100 == 0:\n",
    "            print(\"Step {}, loss: {:.7f}, time elapsed: {:.4f} seconds\".format(\n",
    "                step, loss_value, time.time() - t0))\n",
    "\n",
    "        loss_hist.append(loss_value)  # record the current loss\n",
    "\n",
    "    return params_t, loss_hist"
   ]
  },
  {
   "cell_type": "code",
   "execution_count": 4,
   "metadata": {},
   "outputs": [],
   "source": [
    "n, na = 6, 4\n",
    "T = 20\n",
    "L = 12\n",
    "\n",
    "Ndata = 10000\n",
    "epochs = 1201\n",
    "\n",
    "inputs_T = HaarSampleGeneration(Ndata, 2 ** n, seed=42)\n",
    "states_diff = jnp.load('data/cluster/cluster0Diff_n6T%d_N10000.npy' % T)"
   ]
  },
  {
   "cell_type": "code",
   "execution_count": 5,
   "metadata": {},
   "outputs": [],
   "source": [
    "model = QDDPM(n=n, na=na, T=T, L=L)\n",
    "model.set_diffusionSet(states_diff)\n",
    "params_tot = jnp.zeros((T, 2 * (n + na) * L))"
   ]
  },
  {
   "cell_type": "code",
   "execution_count": 6,
   "metadata": {},
   "outputs": [
    {
     "name": "stdout",
     "output_type": "stream",
     "text": [
      "Step 0, loss: 0.0016625, time elapsed: 12.8955 seconds\n",
      "Step 100, loss: 0.0010737, time elapsed: 46.4125 seconds\n",
      "Step 200, loss: 0.0008225, time elapsed: 79.4589 seconds\n",
      "Step 300, loss: 0.0006824, time elapsed: 112.5548 seconds\n",
      "Step 400, loss: 0.0005838, time elapsed: 145.6682 seconds\n",
      "Step 500, loss: 0.0005132, time elapsed: 178.8124 seconds\n",
      "Step 600, loss: 0.0004685, time elapsed: 211.9511 seconds\n",
      "Step 700, loss: 0.0004368, time elapsed: 245.1273 seconds\n",
      "Step 800, loss: 0.0004139, time elapsed: 278.2546 seconds\n",
      "Step 900, loss: 0.0003952, time elapsed: 311.4489 seconds\n",
      "Step 1000, loss: 0.0003745, time elapsed: 344.6244 seconds\n",
      "Step 1100, loss: 0.0003569, time elapsed: 377.8495 seconds\n",
      "Step 1200, loss: 0.0003394, time elapsed: 410.9998 seconds\n"
     ]
    }
   ],
   "source": [
    "params, loss = Training_t(model, T - 1, inputs_T, params_tot, epochs, 'nat')"
   ]
  },
  {
   "cell_type": "code",
   "execution_count": 27,
   "metadata": {},
   "outputs": [
    {
     "data": {
      "text/plain": [
       "[<matplotlib.lines.Line2D at 0x7f0db50a9390>]"
      ]
     },
     "execution_count": 27,
     "metadata": {},
     "output_type": "execute_result"
    },
    {
     "data": {
      "image/png": "[encoded data removed]",
      "text/plain": [
       "<Figure size 640x480 with 1 Axes>"
      ]
     },
     "metadata": {},
     "output_type": "display_data"
    }
   ],
   "source": [
    "plt.plot(jnp.hstack(loss))"
   ]
  }
 ],
 "metadata": {
  "kernelspec": {
   "display_name": "base",
   "language": "python",
   "name": "python3"
  },
  "language_info": {
   "codemirror_mode": {
    "name": "ipython",
    "version": 3
   },
   "file_extension": ".py",
   "mimetype": "text/x-python",
   "name": "python",
   "nbconvert_exporter": "python",
   "pygments_lexer": "ipython3",
   "version": "3.11.4"
  }
 },
 "nbformat": 4,
 "nbformat_minor": 2
}
